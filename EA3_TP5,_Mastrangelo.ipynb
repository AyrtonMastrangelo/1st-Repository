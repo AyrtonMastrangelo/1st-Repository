{
  "nbformat": 4,
  "nbformat_minor": 0,
  "metadata": {
    "colab": {
      "name": "EA3 - TP5, Mastrangelo, Ayrton.ipynb",
      "provenance": [],
      "collapsed_sections": [],
      "authorship_tag": "ABX9TyOHeNwgQhLmMGHlwgzkD/1L",
      "include_colab_link": true
    },
    "kernelspec": {
      "name": "python3",
      "display_name": "Python 3"
    },
    "language_info": {
      "name": "python"
    }
  },
  "cells": [
    {
      "cell_type": "markdown",
      "metadata": {
        "id": "view-in-github",
        "colab_type": "text"
      },
      "source": [
        "<a href=\"https://colab.research.google.com/github/AyrtonMastrangelo/1st-Repository/blob/main/EA3_TP5%2C_Mastrangelo.ipynb\" target=\"_parent\"><img src=\"https://colab.research.google.com/assets/colab-badge.svg\" alt=\"Open In Colab\"/></a>"
      ]
    },
    {
      "cell_type": "markdown",
      "metadata": {
        "id": "iboM8uVYapXB"
      },
      "source": [
        "#EA3 - TP5 Elementos Bidimensionales"
      ]
    },
    {
      "cell_type": "code",
      "metadata": {
        "id": "qnp3YDElxOZl"
      },
      "source": [
        "class LagrangeElement():    # ElementoLagrange es la clase que definira al elemento en análisis, se le deberá dar cierta información que se explica en help() en la línea 25 en adelante.\n",
        "  def __init__(self, t, b, h, material, EL, ET, nu, Glt):\n",
        "    self.t = t    # Espesor del elemento [m]\n",
        "    self.b = b    # Altura del elemento [m]\n",
        "    self.h = h    # Ancho del elemento [m]\n",
        "    self.material = material\n",
        "    self.EL = EL    # Módulo de Elasticidad Longitudinal [Pa]\n",
        "    self.ET = ET    # Módulo de Elasticidad Transversal [Pa]\n",
        "    self.nu = nu    # Coeficiente de Poisson\n",
        "    self.Glt = Glt    # Módulo de Corte [Pa]\n",
        "\n",
        "\n",
        "  def help(self):   # help() es una función que explica qué datos requiere VigaPortico()\n",
        "    print(' LagrangeElement: se solicita la geometría del problema y datos del material.')\n",
        "    print('\\n t = Inserte el espesor del elemento en metros [m]')\n",
        "    print('\\n b = Inserte la altura del elemento en metros [m]')\n",
        "    print('\\n h = Inserte el ancho del elemento en metros [m]')\n",
        "    print('\\n material = Inserte el material a utilizar')\n",
        "    print('\\n EL = Inserte el módulo de elasticidad longitudinal del material en Pascales [Pa]')\n",
        "    print('\\n ET = Inserte el módulo de elasticidad transversal del material en Pascales [Pa]')\n",
        "    print('\\n nu = Inserte el valor del coeficiente de Poisson para su material')\n",
        "    print('\\n Glt = Inserte el módulo de corte del material en Pascales [Pa]')\n",
        "    print('\\n')\n",
        "    print('\\n LoadVector: parámetros  ')\n",
        "    print('\\n Nx: Carga máxima axial [N]')\n",
        "    print('\\n bi: valor inicial del segmento de carga distribuida en el elemento [m]')\n",
        "    print('\\n bf: valor final del segmento de carga distribuida en el elemento [m]')\n",
        "    print('\\n bl: módulo del segmento total de carga distribuida [m]')\n",
        "\n",
        "\n",
        "  def data(self):   # data() te muestra los datos ingresados en VigaPortico y otros que calcula la misma clase VigaPortico internamente\n",
        "    import numpy as np\n",
        "    print(f' El espesor del elemento es: {self.t} m')\n",
        "    print(f'\\n La altura del elemento es: {self.b} m')\n",
        "    print(f'\\n El ancho del elemento es: {self.h} m')\n",
        "    print(f'\\n El material del elemento es: {self.material}')\n",
        "    print(f'\\n El módulo de elasticidad longitudinal del material es: {self.EL} Pa')\n",
        "    print(f'\\n El módulo de elasticidad transversal del material es: {self.ET} Pa')\n",
        "    print(f'\\n El coeficiente de Poisson del material es: {self.nu}')\n",
        "    print(f'\\n El módulo de corte del material es: {self.Glt} Pa')\n",
        "\n",
        "\n",
        "  def K_matrix(self): # K_matrix() es la matriz de rigidez local del elemento\n",
        "   \n",
        "    import numpy as np\n",
        "    #np.set_printoptions(precision=3, suppress=True)\n",
        "    import sympy as sp\n",
        "    from sympy import symbols\n",
        "    x = symbols('x')\n",
        "    y = symbols('y')\n",
        "    x, y = symbols('x y')\n",
        "\n",
        "    self.N1 = (1 - x/self.h)*(1 - y/self.b)\n",
        "    self.N2 = (x/self.h)*(1 - y/self.b)\n",
        "    self.N3 = (1 - x/self.h)*(y/self.b)\n",
        "    self.N4 = (x/self.h)*(y/self.b)\n",
        "\n",
        "    print(f' N1: {self.N1} ')\n",
        "    print(f'\\n N2: {self.N2} ')\n",
        "    print(f'\\n N3: {self.N3} ')\n",
        "    print(f'\\n N4: {self.N4} ')\n",
        "    \n",
        "    self.N = np.array([ [self.N1,   0,          self.N2,    0,          self.N3,    0,          self.N4,    0      ],\n",
        "                        [0,         self.N1,    0,          self.N2,    0,          self.N3,    0,          self.N4] ])    # Matriz de polinomios de interpolación\n",
        "    print('\\n Matriz de polinomios de interpolación : ')\n",
        "    print(f'{self.N}')\n",
        "    \n",
        "    B = np.array([ [sp.diff(self.N1, x),     0,                      sp.diff(self.N2, x),    0,                      sp.diff(self.N3, x),    0,                      sp.diff(self.N4, x),    0                   ],\n",
        "                        [0,                       sp.diff(self.N1, y),    0,                      sp.diff(self.N2, y),    0,                      sp.diff(self.N3, y),    0,                      sp.diff(self.N4, y) ],\n",
        "                        [sp.diff(self.N1, y),     sp.diff(self.N1, x),    sp.diff(self.N2, y),    sp.diff(self.N2, x),    sp.diff(self.N3, y),    sp.diff(self.N3, x),    sp.diff(self.N4, y),    sp.diff(self.N4, x)      ]   ])    # Matriz B\n",
        "    print('\\n Matriz B: ')\n",
        "    print(f'{B}')\n",
        "\n",
        "    D = 1/(1 - pow(self.nu, 2)) * np.array([  [self.EL,           self.nu*self.ET,    0                             ],\n",
        "                                              [self.nu*self.EL,   self.ET,            0                             ],\n",
        "                                              [0,                 0,                  self.Glt*(1 - pow(self.nu, 2))]  ])   # Matriz de Hooke\n",
        "    print('\\n Matriz de Hooke: ')\n",
        "    print(f'{D}')\n",
        "\n",
        "    #self.Klocal = sp.integrate(sp.integrate(np.dot(np.transpose(B), np.dot(D, B))*self.t, (x, 0, self.h)), (y, 0, self.b))\n",
        "    BTDBt = np.dot(np.transpose(B), np.dot(D, B))*self.t\n",
        "    #print(BTDBt)\n",
        "    Klocal = np.zeros((len(BTDBt), len(BTDBt[0])))\n",
        "    for m in range(len(BTDBt)):\n",
        "      for n in range(len(BTDBt[0])):\n",
        "        Klocal[(m - 1), (n - 1)] = sp.integrate(sp.integrate(BTDBt[(m - 1), (n - 1)], (x, 0, self.h)), (y, 0, self.b))\n",
        "    self.Klocal = Klocal\n",
        "    print('\\n Matriz de rigidez local: ')\n",
        "    print(f'{self.Klocal}')\n",
        "    return self.Klocal\n",
        "\n",
        "\n",
        "  def LoadVector(self, Nx, bi, bf, bl):    # Vector \"fq\" o de carga distribuidad\n",
        "    '''\n",
        "    Nx: Carga máxima axial\n",
        "    bi: valor inicial del segmento de carga distribuida en el elemento\n",
        "    bf: valor final del segmento de carga distribuida en el elemento\n",
        "    bl: módulo del segmento total de carga distribuida\n",
        "    '''\n",
        "    self.Nx = Nx\n",
        "    self.bi = bi\n",
        "    self.bf = bf\n",
        "    self.bl = bl\n",
        "    import numpy as np\n",
        "    import sympy as sp\n",
        "    from sympy import symbols\n",
        "\n",
        "    q_matrix = (-Nx/(self.t*self.bl))*np.array([[1], [0]])\n",
        "    print(' Matriz q: ')\n",
        "    print(q_matrix)\n",
        "\n",
        "    x = symbols('x')\n",
        "    y = symbols('y')\n",
        "    x, y = symbols('x y')\n",
        "\n",
        "    N1c = self.N1.subs(x, 0)\n",
        "    N2c = self.N2.subs(x, 0)\n",
        "    N3c = self.N3.subs(x, 0)\n",
        "    N4c = self.N4.subs(x, 0)\n",
        "    \n",
        "    Nc = np.array([ [N1c,   0,      N2c,    0,      N3c,    0,      N4c,    0  ],\n",
        "                    [0,     N1c,    0,      N2c,    0,      N3c,    0,      N4c]  ])    # Matriz de polinomios de interpolación\n",
        "    print('\\n Matriz de polinomios de interpolación : ')\n",
        "    print(f'{Nc}')\n",
        "\n",
        "    NTqt = np.dot(np.transpose(Nc), q_matrix*self.t)\n",
        "    print('\\n Matriz NTqt: ')\n",
        "    print(f'{NTqt}')\n",
        "\n",
        "    fq = np.zeros((len(NTqt), len(NTqt[0])))\n",
        "    for m in range(len(NTqt)):\n",
        "      for n in range(len(NTqt[0])):\n",
        "        fq[m, n] = sp.integrate(NTqt[m, n], (y, bi, bf))\n",
        "    self.fq = fq\n",
        "    print('\\n Matriz fq: ')\n",
        "    print(f'{self.fq}')\n",
        "    return self.fq\n",
        "\n",
        "\n",
        "  def global_K_matrix(self, i, j, n):    # Cambia los grados de libertad del sistema del elemento al sistema global\n",
        "    '''\n",
        "    i: lista de grados de libertad locales.\n",
        "    j: lista de grados de libertad globales.\n",
        "    n: cantidad de grados de libertad del sistema.\n",
        "    '''\n",
        "    import numpy as np\n",
        "    Kglob = np.zeros((n, n))\n",
        "    for m in range(len(i)):\n",
        "      for n in range(len(j)):\n",
        "        Kglob[(j[m] - 1), (j[n] - 1)] = self.Klocal[(i[m] - 1), (i[n] - 1)]\n",
        "    self.Kglob = Kglob\n",
        "    print(f'{self.Kglob}')\n",
        "    return self.Kglob\n",
        "\n",
        "\n",
        "  def global_fq_matrix(self, i, j, n):    # Cambia los grados de libertad del sistema del elemento al sistema global\n",
        "    '''\n",
        "    i: lista de grados de libertad locales.\n",
        "    j: lista de grados de libertad globales.\n",
        "    n: cantidad de grados de libertad del sistema.\n",
        "    '''\n",
        "    import numpy as np\n",
        "    fqglob = np.zeros((n, 1))\n",
        "    for m in range(len(i)):\n",
        "        fqglob[(j[m] - 1), 0] = self.fq[(i[m] - 1), 0]\n",
        "    self.fqglob = fqglob\n",
        "    print(f'{self.fqglob}')\n",
        "    return self.fqglob"
      ],
      "execution_count": 1,
      "outputs": []
    },
    {
      "cell_type": "markdown",
      "metadata": {
        "id": "Xu0Yvm6XiFeK"
      },
      "source": [
        "### Elemento 1"
      ]
    },
    {
      "cell_type": "code",
      "metadata": {
        "id": "9by-KqY81Lrg"
      },
      "source": [
        "elemento_1 = LagrangeElement(0.00175, 0.0865, 0.54, 'Carbono/Epoxy', 70000000000, 70000000000, 0.1, 5000000000)"
      ],
      "execution_count": 2,
      "outputs": []
    },
    {
      "cell_type": "code",
      "metadata": {
        "colab": {
          "base_uri": "https://localhost:8080/",
          "height": 0
        },
        "id": "Ye4sYtqM1Ogp",
        "outputId": "f97be85c-97e6-42e5-ac89-f3f577705b16"
      },
      "source": [
        "K1 = elemento_1.K_matrix()"
      ],
      "execution_count": 3,
      "outputs": [
        {
          "output_type": "stream",
          "name": "stdout",
          "text": [
            " N1: (1 - 1.85185185185185*x)*(1 - 11.5606936416185*y) \n",
            "\n",
            " N2: 1.85185185185185*x*(1 - 11.5606936416185*y) \n",
            "\n",
            " N3: 11.5606936416185*y*(1 - 1.85185185185185*x) \n",
            "\n",
            " N4: 21.4086919289231*x*y \n",
            "\n",
            " Matriz de polinomios de interpolación : \n",
            "[[(1 - 1.85185185185185*x)*(1 - 11.5606936416185*y) 0\n",
            "  1.85185185185185*x*(1 - 11.5606936416185*y) 0\n",
            "  11.5606936416185*y*(1 - 1.85185185185185*x) 0 21.4086919289231*x*y 0]\n",
            " [0 (1 - 1.85185185185185*x)*(1 - 11.5606936416185*y) 0\n",
            "  1.85185185185185*x*(1 - 11.5606936416185*y) 0\n",
            "  11.5606936416185*y*(1 - 1.85185185185185*x) 0 21.4086919289231*x*y]]\n",
            "\n",
            " Matriz B: \n",
            "[[21.4086919289231*y - 1.85185185185185 0\n",
            "  1.85185185185185 - 21.4086919289231*y 0 -21.4086919289231*y 0\n",
            "  21.4086919289231*y 0]\n",
            " [0 21.4086919289231*x - 11.5606936416185 0 -21.4086919289231*x 0\n",
            "  11.5606936416185 - 21.4086919289231*x 0 21.4086919289231*x]\n",
            " [21.4086919289231*x - 11.5606936416185\n",
            "  21.4086919289231*y - 1.85185185185185 -21.4086919289231*x\n",
            "  1.85185185185185 - 21.4086919289231*y\n",
            "  11.5606936416185 - 21.4086919289231*x -21.4086919289231*y\n",
            "  21.4086919289231*x 21.4086919289231*y]]\n",
            "\n",
            " Matriz de Hooke: \n",
            "[[7.07070707e+10 7.07070707e+09 0.00000000e+00]\n",
            " [7.07070707e+09 7.07070707e+10 0.00000000e+00]\n",
            " [0.00000000e+00 0.00000000e+00 5.00000000e+09]]\n",
            "\n",
            " Matriz de rigidez local: \n",
            "[[ 2.48150572e+07  5.28093434e+06  2.49708153e+06  9.05934343e+05\n",
            "  -1.49046101e+07 -9.05934343e+05 -1.24075286e+07 -5.28093434e+06]\n",
            " [ 5.28093434e+06  2.57955383e+08 -9.05934343e+05  1.28276881e+08\n",
            "   9.05934343e+05 -2.57254573e+08 -5.28093434e+06 -1.28977692e+08]\n",
            " [ 2.49708153e+06 -9.05934343e+05  2.48150572e+07 -5.28093434e+06\n",
            "  -1.24075286e+07  5.28093434e+06 -1.49046101e+07  9.05934343e+05]\n",
            " [ 9.05934343e+05  1.28276881e+08 -5.28093434e+06  2.57955383e+08\n",
            "   5.28093434e+06 -1.28977692e+08 -9.05934343e+05 -2.57254573e+08]\n",
            " [-1.49046101e+07  9.05934343e+05 -1.24075286e+07  5.28093434e+06\n",
            "   2.48150572e+07 -5.28093434e+06  2.49708153e+06 -9.05934343e+05]\n",
            " [-9.05934343e+05 -2.57254573e+08  5.28093434e+06 -1.28977692e+08\n",
            "  -5.28093434e+06  2.57955383e+08  9.05934343e+05  1.28276881e+08]\n",
            " [-1.24075286e+07 -5.28093434e+06 -1.49046101e+07 -9.05934343e+05\n",
            "   2.49708153e+06  9.05934343e+05  2.48150572e+07  5.28093434e+06]\n",
            " [-5.28093434e+06 -1.28977692e+08  9.05934343e+05 -2.57254573e+08\n",
            "  -9.05934343e+05  1.28276881e+08  5.28093434e+06  2.57955383e+08]]\n"
          ]
        }
      ]
    },
    {
      "cell_type": "code",
      "metadata": {
        "colab": {
          "base_uri": "https://localhost:8080/",
          "height": 0
        },
        "id": "P4fHgV0M1QM7",
        "outputId": "1c4e3cee-d490-4639-b903-f489cbcacedb"
      },
      "source": [
        "fq1 = elemento_1.LoadVector(1250, 0.075, 0.0865, 0.023)"
      ],
      "execution_count": 4,
      "outputs": [
        {
          "output_type": "stream",
          "name": "stdout",
          "text": [
            " Matriz q: \n",
            "[[-31055900.62111801]\n",
            " [       -0.        ]]\n",
            "\n",
            " Matriz de polinomios de interpolación : \n",
            "[[1 - 11.5606936416185*y 0 0 0 11.5606936416185*y 0 0 0]\n",
            " [0 1 - 11.5606936416185*y 0 0 0 11.5606936416185*y 0 0]]\n",
            "\n",
            " Matriz NTqt: \n",
            "[[628298.567479266*y - 54347.8260869565]\n",
            " [0]\n",
            " [0]\n",
            " [0]\n",
            " [-628298.567479266*y]\n",
            " [0]\n",
            " [0]\n",
            " [0]]\n",
            "\n",
            " Matriz fq: \n",
            "[[ -41.54624277]\n",
            " [   0.        ]\n",
            " [   0.        ]\n",
            " [   0.        ]\n",
            " [-583.45375723]\n",
            " [   0.        ]\n",
            " [   0.        ]\n",
            " [   0.        ]]\n"
          ]
        }
      ]
    },
    {
      "cell_type": "code",
      "metadata": {
        "colab": {
          "base_uri": "https://localhost:8080/",
          "height": 0
        },
        "id": "m5bnneD4abK8",
        "outputId": "61f0a703-0d18-4813-ad3a-dde75ff3c644"
      },
      "source": [
        "K1glob = elemento_1.global_K_matrix([1, 2, 3, 4, 5, 6, 7, 8], [1, 2, 3, 4, 5, 6, 7, 8], 12)"
      ],
      "execution_count": 5,
      "outputs": [
        {
          "output_type": "stream",
          "name": "stdout",
          "text": [
            "[[ 2.48150572e+07  5.28093434e+06  2.49708153e+06  9.05934343e+05\n",
            "  -1.49046101e+07 -9.05934343e+05 -1.24075286e+07 -5.28093434e+06\n",
            "   0.00000000e+00  0.00000000e+00  0.00000000e+00  0.00000000e+00]\n",
            " [ 5.28093434e+06  2.57955383e+08 -9.05934343e+05  1.28276881e+08\n",
            "   9.05934343e+05 -2.57254573e+08 -5.28093434e+06 -1.28977692e+08\n",
            "   0.00000000e+00  0.00000000e+00  0.00000000e+00  0.00000000e+00]\n",
            " [ 2.49708153e+06 -9.05934343e+05  2.48150572e+07 -5.28093434e+06\n",
            "  -1.24075286e+07  5.28093434e+06 -1.49046101e+07  9.05934343e+05\n",
            "   0.00000000e+00  0.00000000e+00  0.00000000e+00  0.00000000e+00]\n",
            " [ 9.05934343e+05  1.28276881e+08 -5.28093434e+06  2.57955383e+08\n",
            "   5.28093434e+06 -1.28977692e+08 -9.05934343e+05 -2.57254573e+08\n",
            "   0.00000000e+00  0.00000000e+00  0.00000000e+00  0.00000000e+00]\n",
            " [-1.49046101e+07  9.05934343e+05 -1.24075286e+07  5.28093434e+06\n",
            "   2.48150572e+07 -5.28093434e+06  2.49708153e+06 -9.05934343e+05\n",
            "   0.00000000e+00  0.00000000e+00  0.00000000e+00  0.00000000e+00]\n",
            " [-9.05934343e+05 -2.57254573e+08  5.28093434e+06 -1.28977692e+08\n",
            "  -5.28093434e+06  2.57955383e+08  9.05934343e+05  1.28276881e+08\n",
            "   0.00000000e+00  0.00000000e+00  0.00000000e+00  0.00000000e+00]\n",
            " [-1.24075286e+07 -5.28093434e+06 -1.49046101e+07 -9.05934343e+05\n",
            "   2.49708153e+06  9.05934343e+05  2.48150572e+07  5.28093434e+06\n",
            "   0.00000000e+00  0.00000000e+00  0.00000000e+00  0.00000000e+00]\n",
            " [-5.28093434e+06 -1.28977692e+08  9.05934343e+05 -2.57254573e+08\n",
            "  -9.05934343e+05  1.28276881e+08  5.28093434e+06  2.57955383e+08\n",
            "   0.00000000e+00  0.00000000e+00  0.00000000e+00  0.00000000e+00]\n",
            " [ 0.00000000e+00  0.00000000e+00  0.00000000e+00  0.00000000e+00\n",
            "   0.00000000e+00  0.00000000e+00  0.00000000e+00  0.00000000e+00\n",
            "   0.00000000e+00  0.00000000e+00  0.00000000e+00  0.00000000e+00]\n",
            " [ 0.00000000e+00  0.00000000e+00  0.00000000e+00  0.00000000e+00\n",
            "   0.00000000e+00  0.00000000e+00  0.00000000e+00  0.00000000e+00\n",
            "   0.00000000e+00  0.00000000e+00  0.00000000e+00  0.00000000e+00]\n",
            " [ 0.00000000e+00  0.00000000e+00  0.00000000e+00  0.00000000e+00\n",
            "   0.00000000e+00  0.00000000e+00  0.00000000e+00  0.00000000e+00\n",
            "   0.00000000e+00  0.00000000e+00  0.00000000e+00  0.00000000e+00]\n",
            " [ 0.00000000e+00  0.00000000e+00  0.00000000e+00  0.00000000e+00\n",
            "   0.00000000e+00  0.00000000e+00  0.00000000e+00  0.00000000e+00\n",
            "   0.00000000e+00  0.00000000e+00  0.00000000e+00  0.00000000e+00]]\n"
          ]
        }
      ]
    },
    {
      "cell_type": "code",
      "metadata": {
        "colab": {
          "base_uri": "https://localhost:8080/",
          "height": 0
        },
        "id": "k4_BhXBseiwc",
        "outputId": "4fc7fcc1-9448-4506-a6f7-053eb1e7d80b"
      },
      "source": [
        "fq1glob = elemento_1.global_fq_matrix([1, 2, 3, 4, 5, 6, 7, 8], [1, 2, 3, 4, 5, 6, 7, 8], 12)"
      ],
      "execution_count": 6,
      "outputs": [
        {
          "output_type": "stream",
          "name": "stdout",
          "text": [
            "[[ -41.54624277]\n",
            " [   0.        ]\n",
            " [   0.        ]\n",
            " [   0.        ]\n",
            " [-583.45375723]\n",
            " [   0.        ]\n",
            " [   0.        ]\n",
            " [   0.        ]\n",
            " [   0.        ]\n",
            " [   0.        ]\n",
            " [   0.        ]\n",
            " [   0.        ]]\n"
          ]
        }
      ]
    },
    {
      "cell_type": "markdown",
      "metadata": {
        "id": "UJ1wSOV6iJdF"
      },
      "source": [
        "### Elemento 2"
      ]
    },
    {
      "cell_type": "code",
      "metadata": {
        "id": "IigTs4nAiTmD"
      },
      "source": [
        "elemento_2 = LagrangeElement(0.00175, 0.0865, 0.54, 'Carbono/Epoxy', 70000000000, 70000000000, 0.1, 5000000000)"
      ],
      "execution_count": 7,
      "outputs": []
    },
    {
      "cell_type": "code",
      "metadata": {
        "colab": {
          "base_uri": "https://localhost:8080/",
          "height": 0
        },
        "id": "GiNcorILikFD",
        "outputId": "568be8ae-9aae-4fd0-f64f-2fdcfb8b84fc"
      },
      "source": [
        "K2 = elemento_2.K_matrix()"
      ],
      "execution_count": 8,
      "outputs": [
        {
          "output_type": "stream",
          "name": "stdout",
          "text": [
            " N1: (1 - 1.85185185185185*x)*(1 - 11.5606936416185*y) \n",
            "\n",
            " N2: 1.85185185185185*x*(1 - 11.5606936416185*y) \n",
            "\n",
            " N3: 11.5606936416185*y*(1 - 1.85185185185185*x) \n",
            "\n",
            " N4: 21.4086919289231*x*y \n",
            "\n",
            " Matriz de polinomios de interpolación : \n",
            "[[(1 - 1.85185185185185*x)*(1 - 11.5606936416185*y) 0\n",
            "  1.85185185185185*x*(1 - 11.5606936416185*y) 0\n",
            "  11.5606936416185*y*(1 - 1.85185185185185*x) 0 21.4086919289231*x*y 0]\n",
            " [0 (1 - 1.85185185185185*x)*(1 - 11.5606936416185*y) 0\n",
            "  1.85185185185185*x*(1 - 11.5606936416185*y) 0\n",
            "  11.5606936416185*y*(1 - 1.85185185185185*x) 0 21.4086919289231*x*y]]\n",
            "\n",
            " Matriz B: \n",
            "[[21.4086919289231*y - 1.85185185185185 0\n",
            "  1.85185185185185 - 21.4086919289231*y 0 -21.4086919289231*y 0\n",
            "  21.4086919289231*y 0]\n",
            " [0 21.4086919289231*x - 11.5606936416185 0 -21.4086919289231*x 0\n",
            "  11.5606936416185 - 21.4086919289231*x 0 21.4086919289231*x]\n",
            " [21.4086919289231*x - 11.5606936416185\n",
            "  21.4086919289231*y - 1.85185185185185 -21.4086919289231*x\n",
            "  1.85185185185185 - 21.4086919289231*y\n",
            "  11.5606936416185 - 21.4086919289231*x -21.4086919289231*y\n",
            "  21.4086919289231*x 21.4086919289231*y]]\n",
            "\n",
            " Matriz de Hooke: \n",
            "[[7.07070707e+10 7.07070707e+09 0.00000000e+00]\n",
            " [7.07070707e+09 7.07070707e+10 0.00000000e+00]\n",
            " [0.00000000e+00 0.00000000e+00 5.00000000e+09]]\n",
            "\n",
            " Matriz de rigidez local: \n",
            "[[ 2.48150572e+07  5.28093434e+06  2.49708153e+06  9.05934343e+05\n",
            "  -1.49046101e+07 -9.05934343e+05 -1.24075286e+07 -5.28093434e+06]\n",
            " [ 5.28093434e+06  2.57955383e+08 -9.05934343e+05  1.28276881e+08\n",
            "   9.05934343e+05 -2.57254573e+08 -5.28093434e+06 -1.28977692e+08]\n",
            " [ 2.49708153e+06 -9.05934343e+05  2.48150572e+07 -5.28093434e+06\n",
            "  -1.24075286e+07  5.28093434e+06 -1.49046101e+07  9.05934343e+05]\n",
            " [ 9.05934343e+05  1.28276881e+08 -5.28093434e+06  2.57955383e+08\n",
            "   5.28093434e+06 -1.28977692e+08 -9.05934343e+05 -2.57254573e+08]\n",
            " [-1.49046101e+07  9.05934343e+05 -1.24075286e+07  5.28093434e+06\n",
            "   2.48150572e+07 -5.28093434e+06  2.49708153e+06 -9.05934343e+05]\n",
            " [-9.05934343e+05 -2.57254573e+08  5.28093434e+06 -1.28977692e+08\n",
            "  -5.28093434e+06  2.57955383e+08  9.05934343e+05  1.28276881e+08]\n",
            " [-1.24075286e+07 -5.28093434e+06 -1.49046101e+07 -9.05934343e+05\n",
            "   2.49708153e+06  9.05934343e+05  2.48150572e+07  5.28093434e+06]\n",
            " [-5.28093434e+06 -1.28977692e+08  9.05934343e+05 -2.57254573e+08\n",
            "  -9.05934343e+05  1.28276881e+08  5.28093434e+06  2.57955383e+08]]\n"
          ]
        }
      ]
    },
    {
      "cell_type": "code",
      "metadata": {
        "colab": {
          "base_uri": "https://localhost:8080/",
          "height": 0
        },
        "id": "gZJ2b0E-iq4v",
        "outputId": "989b4ff4-8391-40fc-83ba-10b940ada8a2"
      },
      "source": [
        "fq2 = elemento_2.LoadVector(1250, 0, 0.0115, 0.023)"
      ],
      "execution_count": 9,
      "outputs": [
        {
          "output_type": "stream",
          "name": "stdout",
          "text": [
            " Matriz q: \n",
            "[[-31055900.62111801]\n",
            " [       -0.        ]]\n",
            "\n",
            " Matriz de polinomios de interpolación : \n",
            "[[1 - 11.5606936416185*y 0 0 0 11.5606936416185*y 0 0 0]\n",
            " [0 1 - 11.5606936416185*y 0 0 0 11.5606936416185*y 0 0]]\n",
            "\n",
            " Matriz NTqt: \n",
            "[[628298.567479266*y - 54347.8260869565]\n",
            " [0]\n",
            " [0]\n",
            " [0]\n",
            " [-628298.567479266*y]\n",
            " [0]\n",
            " [0]\n",
            " [0]]\n",
            "\n",
            " Matriz fq: \n",
            "[[-583.45375723]\n",
            " [   0.        ]\n",
            " [   0.        ]\n",
            " [   0.        ]\n",
            " [ -41.54624277]\n",
            " [   0.        ]\n",
            " [   0.        ]\n",
            " [   0.        ]]\n"
          ]
        }
      ]
    },
    {
      "cell_type": "code",
      "metadata": {
        "colab": {
          "base_uri": "https://localhost:8080/",
          "height": 0
        },
        "id": "xoZjrB06jN7w",
        "outputId": "a8336126-cda3-42a8-dcf0-a6ef06b38a63"
      },
      "source": [
        "K2glob = elemento_2.global_K_matrix([1, 2, 3, 4, 5, 6, 7, 8], [5, 6, 7, 8, 9, 10, 11, 12], 12)"
      ],
      "execution_count": 10,
      "outputs": [
        {
          "output_type": "stream",
          "name": "stdout",
          "text": [
            "[[ 0.00000000e+00  0.00000000e+00  0.00000000e+00  0.00000000e+00\n",
            "   0.00000000e+00  0.00000000e+00  0.00000000e+00  0.00000000e+00\n",
            "   0.00000000e+00  0.00000000e+00  0.00000000e+00  0.00000000e+00]\n",
            " [ 0.00000000e+00  0.00000000e+00  0.00000000e+00  0.00000000e+00\n",
            "   0.00000000e+00  0.00000000e+00  0.00000000e+00  0.00000000e+00\n",
            "   0.00000000e+00  0.00000000e+00  0.00000000e+00  0.00000000e+00]\n",
            " [ 0.00000000e+00  0.00000000e+00  0.00000000e+00  0.00000000e+00\n",
            "   0.00000000e+00  0.00000000e+00  0.00000000e+00  0.00000000e+00\n",
            "   0.00000000e+00  0.00000000e+00  0.00000000e+00  0.00000000e+00]\n",
            " [ 0.00000000e+00  0.00000000e+00  0.00000000e+00  0.00000000e+00\n",
            "   0.00000000e+00  0.00000000e+00  0.00000000e+00  0.00000000e+00\n",
            "   0.00000000e+00  0.00000000e+00  0.00000000e+00  0.00000000e+00]\n",
            " [ 0.00000000e+00  0.00000000e+00  0.00000000e+00  0.00000000e+00\n",
            "   2.48150572e+07  5.28093434e+06  2.49708153e+06  9.05934343e+05\n",
            "  -1.49046101e+07 -9.05934343e+05 -1.24075286e+07 -5.28093434e+06]\n",
            " [ 0.00000000e+00  0.00000000e+00  0.00000000e+00  0.00000000e+00\n",
            "   5.28093434e+06  2.57955383e+08 -9.05934343e+05  1.28276881e+08\n",
            "   9.05934343e+05 -2.57254573e+08 -5.28093434e+06 -1.28977692e+08]\n",
            " [ 0.00000000e+00  0.00000000e+00  0.00000000e+00  0.00000000e+00\n",
            "   2.49708153e+06 -9.05934343e+05  2.48150572e+07 -5.28093434e+06\n",
            "  -1.24075286e+07  5.28093434e+06 -1.49046101e+07  9.05934343e+05]\n",
            " [ 0.00000000e+00  0.00000000e+00  0.00000000e+00  0.00000000e+00\n",
            "   9.05934343e+05  1.28276881e+08 -5.28093434e+06  2.57955383e+08\n",
            "   5.28093434e+06 -1.28977692e+08 -9.05934343e+05 -2.57254573e+08]\n",
            " [ 0.00000000e+00  0.00000000e+00  0.00000000e+00  0.00000000e+00\n",
            "  -1.49046101e+07  9.05934343e+05 -1.24075286e+07  5.28093434e+06\n",
            "   2.48150572e+07 -5.28093434e+06  2.49708153e+06 -9.05934343e+05]\n",
            " [ 0.00000000e+00  0.00000000e+00  0.00000000e+00  0.00000000e+00\n",
            "  -9.05934343e+05 -2.57254573e+08  5.28093434e+06 -1.28977692e+08\n",
            "  -5.28093434e+06  2.57955383e+08  9.05934343e+05  1.28276881e+08]\n",
            " [ 0.00000000e+00  0.00000000e+00  0.00000000e+00  0.00000000e+00\n",
            "  -1.24075286e+07 -5.28093434e+06 -1.49046101e+07 -9.05934343e+05\n",
            "   2.49708153e+06  9.05934343e+05  2.48150572e+07  5.28093434e+06]\n",
            " [ 0.00000000e+00  0.00000000e+00  0.00000000e+00  0.00000000e+00\n",
            "  -5.28093434e+06 -1.28977692e+08  9.05934343e+05 -2.57254573e+08\n",
            "  -9.05934343e+05  1.28276881e+08  5.28093434e+06  2.57955383e+08]]\n"
          ]
        }
      ]
    },
    {
      "cell_type": "code",
      "metadata": {
        "colab": {
          "base_uri": "https://localhost:8080/",
          "height": 0
        },
        "id": "Ea-TmrQVjP7L",
        "outputId": "a5e5ba3a-bc15-4ca4-ba7f-7f7d8dd8624e"
      },
      "source": [
        "fq2glob = elemento_2.global_fq_matrix([1, 2, 3, 4, 5, 6, 7, 8], [5, 6, 7, 8, 9, 10, 11, 12], 12)"
      ],
      "execution_count": 11,
      "outputs": [
        {
          "output_type": "stream",
          "name": "stdout",
          "text": [
            "[[   0.        ]\n",
            " [   0.        ]\n",
            " [   0.        ]\n",
            " [   0.        ]\n",
            " [-583.45375723]\n",
            " [   0.        ]\n",
            " [   0.        ]\n",
            " [   0.        ]\n",
            " [ -41.54624277]\n",
            " [   0.        ]\n",
            " [   0.        ]\n",
            " [   0.        ]]\n"
          ]
        }
      ]
    },
    {
      "cell_type": "markdown",
      "metadata": {
        "id": "cEZS1iLwjpfO"
      },
      "source": [
        "### Matriz de Rigidez Global $K_{glob}$"
      ]
    },
    {
      "cell_type": "code",
      "metadata": {
        "colab": {
          "base_uri": "https://localhost:8080/",
          "height": 0
        },
        "id": "z5s6jpU5jniu",
        "outputId": "ec4e53b9-4d09-45a2-b490-d79f3089dc09"
      },
      "source": [
        "Kglob = K1glob + K2glob    # Se suman las matrices globales de cada elemento para obtener la matriz de rigidez global del sistema\n",
        "print(Kglob)"
      ],
      "execution_count": 12,
      "outputs": [
        {
          "output_type": "stream",
          "name": "stdout",
          "text": [
            "[[ 2.48150572e+07  5.28093434e+06  2.49708153e+06  9.05934343e+05\n",
            "  -1.49046101e+07 -9.05934343e+05 -1.24075286e+07 -5.28093434e+06\n",
            "   0.00000000e+00  0.00000000e+00  0.00000000e+00  0.00000000e+00]\n",
            " [ 5.28093434e+06  2.57955383e+08 -9.05934343e+05  1.28276881e+08\n",
            "   9.05934343e+05 -2.57254573e+08 -5.28093434e+06 -1.28977692e+08\n",
            "   0.00000000e+00  0.00000000e+00  0.00000000e+00  0.00000000e+00]\n",
            " [ 2.49708153e+06 -9.05934343e+05  2.48150572e+07 -5.28093434e+06\n",
            "  -1.24075286e+07  5.28093434e+06 -1.49046101e+07  9.05934343e+05\n",
            "   0.00000000e+00  0.00000000e+00  0.00000000e+00  0.00000000e+00]\n",
            " [ 9.05934343e+05  1.28276881e+08 -5.28093434e+06  2.57955383e+08\n",
            "   5.28093434e+06 -1.28977692e+08 -9.05934343e+05 -2.57254573e+08\n",
            "   0.00000000e+00  0.00000000e+00  0.00000000e+00  0.00000000e+00]\n",
            " [-1.49046101e+07  9.05934343e+05 -1.24075286e+07  5.28093434e+06\n",
            "   4.96301144e+07  9.31322575e-10  4.99416307e+06  2.32830644e-10\n",
            "  -1.49046101e+07 -9.05934343e+05 -1.24075286e+07 -5.28093434e+06]\n",
            " [-9.05934343e+05 -2.57254573e+08  5.28093434e+06 -1.28977692e+08\n",
            "  -1.86264515e-09  5.15910767e+08 -2.32830644e-10  2.56553763e+08\n",
            "   9.05934343e+05 -2.57254573e+08 -5.28093434e+06 -1.28977692e+08]\n",
            " [-1.24075286e+07 -5.28093434e+06 -1.49046101e+07 -9.05934343e+05\n",
            "   4.99416307e+06 -1.04773790e-09  4.96301144e+07 -9.31322575e-10\n",
            "  -1.24075286e+07  5.28093434e+06 -1.49046101e+07  9.05934343e+05]\n",
            " [-5.28093434e+06 -1.28977692e+08  9.05934343e+05 -2.57254573e+08\n",
            "   0.00000000e+00  2.56553763e+08  9.31322575e-10  5.15910767e+08\n",
            "   5.28093434e+06 -1.28977692e+08 -9.05934343e+05 -2.57254573e+08]\n",
            " [ 0.00000000e+00  0.00000000e+00  0.00000000e+00  0.00000000e+00\n",
            "  -1.49046101e+07  9.05934343e+05 -1.24075286e+07  5.28093434e+06\n",
            "   2.48150572e+07 -5.28093434e+06  2.49708153e+06 -9.05934343e+05]\n",
            " [ 0.00000000e+00  0.00000000e+00  0.00000000e+00  0.00000000e+00\n",
            "  -9.05934343e+05 -2.57254573e+08  5.28093434e+06 -1.28977692e+08\n",
            "  -5.28093434e+06  2.57955383e+08  9.05934343e+05  1.28276881e+08]\n",
            " [ 0.00000000e+00  0.00000000e+00  0.00000000e+00  0.00000000e+00\n",
            "  -1.24075286e+07 -5.28093434e+06 -1.49046101e+07 -9.05934343e+05\n",
            "   2.49708153e+06  9.05934343e+05  2.48150572e+07  5.28093434e+06]\n",
            " [ 0.00000000e+00  0.00000000e+00  0.00000000e+00  0.00000000e+00\n",
            "  -5.28093434e+06 -1.28977692e+08  9.05934343e+05 -2.57254573e+08\n",
            "  -9.05934343e+05  1.28276881e+08  5.28093434e+06  2.57955383e+08]]\n"
          ]
        }
      ]
    },
    {
      "cell_type": "markdown",
      "metadata": {
        "id": "UHDtZb4TjwZR"
      },
      "source": [
        "### Matriz de Cargas Nodales $f_{q}$"
      ]
    },
    {
      "cell_type": "code",
      "metadata": {
        "colab": {
          "base_uri": "https://localhost:8080/",
          "height": 0
        },
        "id": "2Pkw1Rc2j4IH",
        "outputId": "046bea4b-7dd4-4443-85b6-1b6a9b07a2ee"
      },
      "source": [
        "fqglob = fq1glob + fq2glob    # Se suman las matrices globales de cada elemento para obtener la matriz de cargas nodales global del sistema\n",
        "print(fqglob)"
      ],
      "execution_count": 13,
      "outputs": [
        {
          "output_type": "stream",
          "name": "stdout",
          "text": [
            "[[  -41.54624277]\n",
            " [    0.        ]\n",
            " [    0.        ]\n",
            " [    0.        ]\n",
            " [-1166.90751445]\n",
            " [    0.        ]\n",
            " [    0.        ]\n",
            " [    0.        ]\n",
            " [  -41.54624277]\n",
            " [    0.        ]\n",
            " [    0.        ]\n",
            " [    0.        ]]\n"
          ]
        }
      ]
    },
    {
      "cell_type": "markdown",
      "metadata": {
        "id": "sHBKOq6djufc"
      },
      "source": [
        "### Reducción de Guyán: *Condensación Estática*"
      ]
    },
    {
      "cell_type": "markdown",
      "metadata": {
        "id": "v_LA2kF_qzw_"
      },
      "source": [
        "El método reordena los grados de libertad, de forma que los desplazamientos desconocidos se ubiquen en los primeros grandos de libertad. Mientras que con las cargas ocurre lo opuesto."
      ]
    },
    {
      "cell_type": "code",
      "metadata": {
        "id": "ghRRnzknqwNT"
      },
      "source": [
        "def guyan_K_matrix(k, l, h):    # Función que cambia los grados de libertad del sistema global al sistema transformado por Guyán\n",
        "  '''\n",
        "  k: lista de grados de libertad globales.\n",
        "  l: lista de grados de libertad de Guyán.\n",
        "  h: cantidad de grados de libertad del sistema.\n",
        "  '''\n",
        "  import numpy as np\n",
        "  Kguyan = np.zeros((h, h))\n",
        "  for g in range(len(k)):\n",
        "    for h in range(len(l)):\n",
        "      Kguyan[(l[g] - 1), (l[h] - 1)] = Kglob[(k[g] - 1), (k[h] - 1)]\n",
        "  Kguyan = Kguyan\n",
        "  print(f'{Kguyan}')\n",
        "  return Kguyan"
      ],
      "execution_count": 14,
      "outputs": []
    },
    {
      "cell_type": "code",
      "metadata": {
        "colab": {
          "base_uri": "https://localhost:8080/",
          "height": 0
        },
        "id": "QoO1EKSfq5vb",
        "outputId": "2317f00f-abed-49aa-91e6-e931ff9e688e"
      },
      "source": [
        "Kguyan = guyan_K_matrix([1,2,5,6,3,4,7,8,9,10,11,12], [1,2,3,4,5,6,7,8,9,10,11,12],  12)"
      ],
      "execution_count": 15,
      "outputs": [
        {
          "output_type": "stream",
          "name": "stdout",
          "text": [
            "[[ 2.48150572e+07  5.28093434e+06 -1.49046101e+07 -9.05934343e+05\n",
            "   2.49708153e+06  9.05934343e+05 -1.24075286e+07 -5.28093434e+06\n",
            "   0.00000000e+00  0.00000000e+00  0.00000000e+00  0.00000000e+00]\n",
            " [ 5.28093434e+06  2.57955383e+08  9.05934343e+05 -2.57254573e+08\n",
            "  -9.05934343e+05  1.28276881e+08 -5.28093434e+06 -1.28977692e+08\n",
            "   0.00000000e+00  0.00000000e+00  0.00000000e+00  0.00000000e+00]\n",
            " [-1.49046101e+07  9.05934343e+05  4.96301144e+07  9.31322575e-10\n",
            "  -1.24075286e+07  5.28093434e+06  4.99416307e+06  2.32830644e-10\n",
            "  -1.49046101e+07 -9.05934343e+05 -1.24075286e+07 -5.28093434e+06]\n",
            " [-9.05934343e+05 -2.57254573e+08 -1.86264515e-09  5.15910767e+08\n",
            "   5.28093434e+06 -1.28977692e+08 -2.32830644e-10  2.56553763e+08\n",
            "   9.05934343e+05 -2.57254573e+08 -5.28093434e+06 -1.28977692e+08]\n",
            " [ 2.49708153e+06 -9.05934343e+05 -1.24075286e+07  5.28093434e+06\n",
            "   2.48150572e+07 -5.28093434e+06 -1.49046101e+07  9.05934343e+05\n",
            "   0.00000000e+00  0.00000000e+00  0.00000000e+00  0.00000000e+00]\n",
            " [ 9.05934343e+05  1.28276881e+08  5.28093434e+06 -1.28977692e+08\n",
            "  -5.28093434e+06  2.57955383e+08 -9.05934343e+05 -2.57254573e+08\n",
            "   0.00000000e+00  0.00000000e+00  0.00000000e+00  0.00000000e+00]\n",
            " [-1.24075286e+07 -5.28093434e+06  4.99416307e+06 -1.04773790e-09\n",
            "  -1.49046101e+07 -9.05934343e+05  4.96301144e+07 -9.31322575e-10\n",
            "  -1.24075286e+07  5.28093434e+06 -1.49046101e+07  9.05934343e+05]\n",
            " [-5.28093434e+06 -1.28977692e+08  0.00000000e+00  2.56553763e+08\n",
            "   9.05934343e+05 -2.57254573e+08  9.31322575e-10  5.15910767e+08\n",
            "   5.28093434e+06 -1.28977692e+08 -9.05934343e+05 -2.57254573e+08]\n",
            " [ 0.00000000e+00  0.00000000e+00 -1.49046101e+07  9.05934343e+05\n",
            "   0.00000000e+00  0.00000000e+00 -1.24075286e+07  5.28093434e+06\n",
            "   2.48150572e+07 -5.28093434e+06  2.49708153e+06 -9.05934343e+05]\n",
            " [ 0.00000000e+00  0.00000000e+00 -9.05934343e+05 -2.57254573e+08\n",
            "   0.00000000e+00  0.00000000e+00  5.28093434e+06 -1.28977692e+08\n",
            "  -5.28093434e+06  2.57955383e+08  9.05934343e+05  1.28276881e+08]\n",
            " [ 0.00000000e+00  0.00000000e+00 -1.24075286e+07 -5.28093434e+06\n",
            "   0.00000000e+00  0.00000000e+00 -1.49046101e+07 -9.05934343e+05\n",
            "   2.49708153e+06  9.05934343e+05  2.48150572e+07  5.28093434e+06]\n",
            " [ 0.00000000e+00  0.00000000e+00 -5.28093434e+06 -1.28977692e+08\n",
            "   0.00000000e+00  0.00000000e+00  9.05934343e+05 -2.57254573e+08\n",
            "  -9.05934343e+05  1.28276881e+08  5.28093434e+06  2.57955383e+08]]\n"
          ]
        }
      ]
    },
    {
      "cell_type": "code",
      "metadata": {
        "id": "zJaCeziJsgeK"
      },
      "source": [
        "def guyan_fq_matrix(k, l, h):    # Función que cambia los grados de libertad del sistema global al sistema transformado por Guyán\n",
        "  '''\n",
        "  k: lista de grados de libertad globales.\n",
        "  l: lista de grados de libertad de Guyán.\n",
        "  h: cantidad de grados de libertad del sistema.\n",
        "  '''\n",
        "  import numpy as np\n",
        "  fqguyan = np.zeros((h, 1))\n",
        "  for g in range(len(k)):\n",
        "      fqguyan[(l[g] - 1), 0] = fqglob[(k[g] - 1), 0]\n",
        "  fqguyan = fqguyan\n",
        "  print(f'{fqguyan}')\n",
        "  return fqguyan"
      ],
      "execution_count": 16,
      "outputs": []
    },
    {
      "cell_type": "code",
      "metadata": {
        "colab": {
          "base_uri": "https://localhost:8080/",
          "height": 0
        },
        "id": "en_-jz3Hq7b1",
        "outputId": "5f620498-0ba6-4b83-f836-c9fd7dbe5f33"
      },
      "source": [
        "fqguyan = guyan_fq_matrix([1,2,5,6,3,4,7,8,9,10,11,12], [1,2,3,4,5,6,7,8,9,10,11,12],  12)"
      ],
      "execution_count": 17,
      "outputs": [
        {
          "output_type": "stream",
          "name": "stdout",
          "text": [
            "[[  -41.54624277]\n",
            " [    0.        ]\n",
            " [-1166.90751445]\n",
            " [    0.        ]\n",
            " [    0.        ]\n",
            " [    0.        ]\n",
            " [    0.        ]\n",
            " [    0.        ]\n",
            " [  -41.54624277]\n",
            " [    0.        ]\n",
            " [    0.        ]\n",
            " [    0.        ]]\n"
          ]
        }
      ]
    },
    {
      "cell_type": "markdown",
      "metadata": {
        "id": "xqlm_QqYto6M"
      },
      "source": [
        "### Sistema de Ecuaciones"
      ]
    },
    {
      "cell_type": "markdown",
      "metadata": {
        "id": "kaFj-p5Gtspv"
      },
      "source": [
        "\\begin{equation}\n",
        "    \\begin{Bmatrix}\n",
        "  P\n",
        "  \\end{Bmatrix}\n",
        "  =\n",
        "  \\begin{bmatrix}\n",
        "  K\n",
        "  \\end{bmatrix}\n",
        "  ∙\n",
        "  \\begin{Bmatrix}\n",
        "  U\n",
        "  \\end{Bmatrix}\n",
        "  +\n",
        "  \\begin{Bmatrix}\n",
        "  f_{q}\n",
        "  \\end{Bmatrix}\n",
        "  \\Rightarrow\n",
        "  \\begin{Bmatrix}\n",
        "  P_{I}\\\\\n",
        "  P_{II}\n",
        "  \\end{Bmatrix}\n",
        "  =\n",
        "  \\begin{bmatrix}\n",
        "  K_{I-I} & K_{I-II}\\\\\n",
        "  K_{II-I} & K_{II-II}\n",
        "  \\end{bmatrix}\n",
        "  ∙\n",
        "  \\begin{Bmatrix}\n",
        "  U_{I}\\\\\n",
        "  U_{II}\n",
        "  \\end{Bmatrix}\n",
        "    -\n",
        "  \\begin{Bmatrix}\n",
        "  f_{q_{I}}\\\\\n",
        "  f_{q_{II}}\n",
        "  \\end{Bmatrix}\n",
        "\\end{equation}\n",
        "\n",
        "\n",
        "Las cargas y desplazamientos a calcular son $P_{II}$ y $U_{I}$ respectivamente.\n"
      ]
    },
    {
      "cell_type": "code",
      "metadata": {
        "colab": {
          "base_uri": "https://localhost:8080/",
          "height": 0
        },
        "id": "LrGxwgEWuhQU",
        "outputId": "946a7592-6fd1-4c4e-b874-a57dcf097e97"
      },
      "source": [
        "KI_I = Kguyan[0:4, 0:4]\n",
        "KI_II = Kguyan[0:4, 4:12]\n",
        "KII_I = Kguyan[4:12, 0:4]\n",
        "KII_II = Kguyan[4:12, 4:12]\n",
        "fqI = fqguyan[0:4, 0]\n",
        "fqII = fqguyan[4:12, 0]\n",
        "\n",
        "#np.set_printoptions(precision=3, suppress=True)\n",
        "print(f'Partición de la matriz de rigidez global para resolver el sistema matricial de ecuaciones: ')\n",
        "\n",
        "print(f'\\n KI_I ')\n",
        "rows = len(KI_I)\n",
        "columns = len(KI_I[0])\n",
        "print(f'\\n Cantidad de filas: {rows} ')\n",
        "print(f'\\n Cantidad de columnas: {columns} ')\n",
        "print(f'\\n {KI_I} ')\n",
        "\n",
        "print(f'\\n KI_II ')\n",
        "rows = len(KI_II)\n",
        "columns = len(KI_II[0])\n",
        "print(f'\\n Cantidad de filas: {rows} ')\n",
        "print(f'\\n Cantidad de columnas: {columns} ')\n",
        "print(f'\\n {KI_II} ')\n",
        "\n",
        "print(f'\\n KII_I ')\n",
        "rows = len(KII_I)\n",
        "columns = len(KII_I[0])\n",
        "print(f'\\n Cantidad de filas: {rows} ')\n",
        "print(f'\\n Cantidad de columnas: {columns} ')\n",
        "print(f'\\n {KII_I} ')\n",
        "\n",
        "print(f'\\n KII_II ')\n",
        "rows = len(KII_II)\n",
        "columns = len(KII_II[0])\n",
        "print(f'\\n Cantidad de filas: {rows} ')\n",
        "print(f'\\n Cantidad de columnas: {columns} ')\n",
        "print(f'\\n {KII_II} ')\n",
        "\n",
        "print(f'\\n Partición de la matriz de cargas nodales para resolver el sistema matricial de ecuaciones: ')\n",
        "\n",
        "print(f'\\n fqI ')\n",
        "rows = len(fqI)\n",
        "#columns = len(fqI[0])\n",
        "print(f'\\n Cantidad de filas: {rows} ')\n",
        "print(f'\\n Cantidad de columnas: {columns} ')\n",
        "print(f'\\n {fqI} ')\n",
        "\n",
        "print(f'\\n fqII ')\n",
        "rows = len(fqII)\n",
        "#columns = len(fqII[0])\n",
        "print(f'\\n Cantidad de filas: {rows} ')\n",
        "print(f'\\n Cantidad de columnas: {columns} ')\n",
        "print(f'\\n {fqII} ')"
      ],
      "execution_count": 18,
      "outputs": [
        {
          "output_type": "stream",
          "name": "stdout",
          "text": [
            "Partición de la matriz de rigidez global para resolver el sistema matricial de ecuaciones: \n",
            "\n",
            " KI_I \n",
            "\n",
            " Cantidad de filas: 4 \n",
            "\n",
            " Cantidad de columnas: 4 \n",
            "\n",
            " [[ 2.48150572e+07  5.28093434e+06 -1.49046101e+07 -9.05934343e+05]\n",
            " [ 5.28093434e+06  2.57955383e+08  9.05934343e+05 -2.57254573e+08]\n",
            " [-1.49046101e+07  9.05934343e+05  4.96301144e+07  9.31322575e-10]\n",
            " [-9.05934343e+05 -2.57254573e+08 -1.86264515e-09  5.15910767e+08]] \n",
            "\n",
            " KI_II \n",
            "\n",
            " Cantidad de filas: 4 \n",
            "\n",
            " Cantidad de columnas: 8 \n",
            "\n",
            " [[ 2.49708153e+06  9.05934343e+05 -1.24075286e+07 -5.28093434e+06\n",
            "   0.00000000e+00  0.00000000e+00  0.00000000e+00  0.00000000e+00]\n",
            " [-9.05934343e+05  1.28276881e+08 -5.28093434e+06 -1.28977692e+08\n",
            "   0.00000000e+00  0.00000000e+00  0.00000000e+00  0.00000000e+00]\n",
            " [-1.24075286e+07  5.28093434e+06  4.99416307e+06  2.32830644e-10\n",
            "  -1.49046101e+07 -9.05934343e+05 -1.24075286e+07 -5.28093434e+06]\n",
            " [ 5.28093434e+06 -1.28977692e+08 -2.32830644e-10  2.56553763e+08\n",
            "   9.05934343e+05 -2.57254573e+08 -5.28093434e+06 -1.28977692e+08]] \n",
            "\n",
            " KII_I \n",
            "\n",
            " Cantidad de filas: 8 \n",
            "\n",
            " Cantidad de columnas: 4 \n",
            "\n",
            " [[ 2.49708153e+06 -9.05934343e+05 -1.24075286e+07  5.28093434e+06]\n",
            " [ 9.05934343e+05  1.28276881e+08  5.28093434e+06 -1.28977692e+08]\n",
            " [-1.24075286e+07 -5.28093434e+06  4.99416307e+06 -1.04773790e-09]\n",
            " [-5.28093434e+06 -1.28977692e+08  0.00000000e+00  2.56553763e+08]\n",
            " [ 0.00000000e+00  0.00000000e+00 -1.49046101e+07  9.05934343e+05]\n",
            " [ 0.00000000e+00  0.00000000e+00 -9.05934343e+05 -2.57254573e+08]\n",
            " [ 0.00000000e+00  0.00000000e+00 -1.24075286e+07 -5.28093434e+06]\n",
            " [ 0.00000000e+00  0.00000000e+00 -5.28093434e+06 -1.28977692e+08]] \n",
            "\n",
            " KII_II \n",
            "\n",
            " Cantidad de filas: 8 \n",
            "\n",
            " Cantidad de columnas: 8 \n",
            "\n",
            " [[ 2.48150572e+07 -5.28093434e+06 -1.49046101e+07  9.05934343e+05\n",
            "   0.00000000e+00  0.00000000e+00  0.00000000e+00  0.00000000e+00]\n",
            " [-5.28093434e+06  2.57955383e+08 -9.05934343e+05 -2.57254573e+08\n",
            "   0.00000000e+00  0.00000000e+00  0.00000000e+00  0.00000000e+00]\n",
            " [-1.49046101e+07 -9.05934343e+05  4.96301144e+07 -9.31322575e-10\n",
            "  -1.24075286e+07  5.28093434e+06 -1.49046101e+07  9.05934343e+05]\n",
            " [ 9.05934343e+05 -2.57254573e+08  9.31322575e-10  5.15910767e+08\n",
            "   5.28093434e+06 -1.28977692e+08 -9.05934343e+05 -2.57254573e+08]\n",
            " [ 0.00000000e+00  0.00000000e+00 -1.24075286e+07  5.28093434e+06\n",
            "   2.48150572e+07 -5.28093434e+06  2.49708153e+06 -9.05934343e+05]\n",
            " [ 0.00000000e+00  0.00000000e+00  5.28093434e+06 -1.28977692e+08\n",
            "  -5.28093434e+06  2.57955383e+08  9.05934343e+05  1.28276881e+08]\n",
            " [ 0.00000000e+00  0.00000000e+00 -1.49046101e+07 -9.05934343e+05\n",
            "   2.49708153e+06  9.05934343e+05  2.48150572e+07  5.28093434e+06]\n",
            " [ 0.00000000e+00  0.00000000e+00  9.05934343e+05 -2.57254573e+08\n",
            "  -9.05934343e+05  1.28276881e+08  5.28093434e+06  2.57955383e+08]] \n",
            "\n",
            " Partición de la matriz de cargas nodales para resolver el sistema matricial de ecuaciones: \n",
            "\n",
            " fqI \n",
            "\n",
            " Cantidad de filas: 4 \n",
            "\n",
            " Cantidad de columnas: 8 \n",
            "\n",
            " [  -41.54624277     0.         -1166.90751445     0.        ] \n",
            "\n",
            " fqII \n",
            "\n",
            " Cantidad de filas: 8 \n",
            "\n",
            " Cantidad de columnas: 8 \n",
            "\n",
            " [  0.           0.           0.           0.         -41.54624277\n",
            "   0.           0.           0.        ] \n"
          ]
        }
      ]
    },
    {
      "cell_type": "markdown",
      "metadata": {
        "id": "o17kuvkfxs6O"
      },
      "source": [
        "$U_{I}=k_{I-I}^{-1}∙(P_{I}-k_{I-II}∙U_{II}+f_{q_{I}})$\n",
        "\n",
        "$P_{II}=k_{II-I}∙U_{I}+k_{II-II}∙U_{II}-f_{q_{II}}$"
      ]
    },
    {
      "cell_type": "code",
      "metadata": {
        "colab": {
          "base_uri": "https://localhost:8080/",
          "height": 0
        },
        "id": "vnrdi6kcyIqf",
        "outputId": "5289b58b-4db8-483f-c682-2004628a2898"
      },
      "source": [
        "#np.set_printoptions(precision=15, suppress=True)\n",
        "#np.set_printoptions(formatter={'float': lambda x:'%0.12f'%(x)})\n",
        "import numpy as np\n",
        "from numpy.linalg import inv\n",
        "KI_Iinv = inv(KI_I)\n",
        "print(f' Matriz K_I-I inversa: ')\n",
        "print(f'\\n {KI_Iinv}')"
      ],
      "execution_count": 19,
      "outputs": [
        {
          "output_type": "stream",
          "name": "stdout",
          "text": [
            " Matriz K_I-I inversa: \n",
            "\n",
            " [[ 4.96605543e-08 -1.95379870e-09  1.49494157e-08 -8.87041864e-10]\n",
            " [-1.95379870e-09  7.78928696e-09 -7.28936269e-10  3.88063171e-09]\n",
            " [ 1.49494157e-08 -7.28936269e-10  2.46518791e-08 -3.37226921e-10]\n",
            " [-8.87041864e-10  3.88063171e-09 -3.37226921e-10  3.87180648e-09]]\n"
          ]
        }
      ]
    },
    {
      "cell_type": "code",
      "metadata": {
        "colab": {
          "base_uri": "https://localhost:8080/",
          "height": 0
        },
        "id": "-cmClbAoyKPZ",
        "outputId": "b35dfbe0-1307-4881-a0e4-18d265d1d98f"
      },
      "source": [
        "#np.set_printoptions(precision=20, suppress=True)\n",
        "UII = np.transpose(np.array([0, 0, 0, 0, 0, 0, 0, 0]))    # Matriz UII\n",
        "print(' Vector de desplazamientos conocidos UII: ')\n",
        "print(f'\\n {UII} m')"
      ],
      "execution_count": 20,
      "outputs": [
        {
          "output_type": "stream",
          "name": "stdout",
          "text": [
            " Vector de desplazamientos conocidos UII: \n",
            "\n",
            " [0 0 0 0 0 0 0 0] m\n"
          ]
        }
      ]
    },
    {
      "cell_type": "code",
      "metadata": {
        "colab": {
          "base_uri": "https://localhost:8080/",
          "height": 0
        },
        "id": "VNfRf1-2yOC_",
        "outputId": "12f22663-fd11-4d06-9905-0cbb705dcb26"
      },
      "source": [
        "#np.set_printoptions(precision=1, suppress=True)\n",
        "PI = np.transpose(np.array([0, 0, 0, 0])) # Matriz PI\n",
        "print(' Vector de cargas conocidas PI: ')\n",
        "print(f'\\n {PI} N')"
      ],
      "execution_count": 21,
      "outputs": [
        {
          "output_type": "stream",
          "name": "stdout",
          "text": [
            " Vector de cargas conocidas PI: \n",
            "\n",
            " [0 0 0 0] N\n"
          ]
        }
      ]
    },
    {
      "cell_type": "code",
      "metadata": {
        "colab": {
          "base_uri": "https://localhost:8080/",
          "height": 0
        },
        "id": "YekRs_HeyP1f",
        "outputId": "f7fd4b44-5717-443d-c80e-b70a64596889"
      },
      "source": [
        "#np.set_printoptions(precision=10, suppress=True)\n",
        "UI = np.dot(KI_Iinv, PI - np.dot(KI_II, UII) + fqI)   # Matriz UI\n",
        "print(' Los desplazamientos desconocidos son: ')\n",
        "print(f'\\n {UI} m')"
      ],
      "execution_count": 22,
      "outputs": [
        {
          "output_type": "stream",
          "name": "stdout",
          "text": [
            " Los desplazamientos desconocidos son: \n",
            "\n",
            " [-1.95077950e-05  9.31774205e-07 -2.93875551e-05  4.30365885e-07] m\n"
          ]
        }
      ]
    },
    {
      "cell_type": "code",
      "metadata": {
        "colab": {
          "base_uri": "https://localhost:8080/",
          "height": 0
        },
        "id": "NL9XNvQbySvY",
        "outputId": "cd531b14-49e3-4125-fd03-8be8f46041ea"
      },
      "source": [
        "#np.set_printoptions(formatter={'float': lambda x:'%0.3f'%(x)})\n",
        "PII = np.dot(KII_I, UI) + np.dot(KII_II, UII) - fqII   # Matriz PII\n",
        "print(' Las cargas desconocidas son: ')\n",
        "print(f'\\n {PII} N')"
      ],
      "execution_count": 23,
      "outputs": [
        {
          "output_type": "stream",
          "name": "stdout",
          "text": [
            " Las cargas desconocidas son: \n",
            "\n",
            " [ 317.34298301 -108.84903954   90.3566439    93.2532859   479.94617709\n",
            "  -84.09039674  362.35419599   99.68615038] N\n"
          ]
        }
      ]
    }
  ]
}